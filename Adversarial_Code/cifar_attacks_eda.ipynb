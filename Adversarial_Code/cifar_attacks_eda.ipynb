{
 "cells": [
  {
   "cell_type": "code",
   "execution_count": 19,
   "metadata": {},
   "outputs": [],
   "source": [
    "import numpy as np\n",
    "import matplotlib.pyplot as plt\n",
    "from tqdm import tqdm_notebook\n",
    "\n",
    "from cleverhans.attacks import FastGradientMethod, LBFGS, DeepFool\n",
    "from cleverhans.utils_keras import KerasModelWrapper\n",
    "\n",
    "from foolbox.attacks import BoundaryAttack\n",
    "\n",
    "from keras.datasets import cifar10\n",
    "from keras.models import load_model\n",
    "from keras.utils import to_categorical\n",
    "from keras import backend as K\n",
    "\n",
    "import sys\n",
    "sys.path.append('../Final_notebook/')\n",
    "import proj_utils as utils"
   ]
  },
  {
   "cell_type": "code",
   "execution_count": 2,
   "metadata": {},
   "outputs": [],
   "source": [
    "(x_train, y_train), (x_test, y_test) = cifar10.load_data()\n",
    "x_train = x_train / 255.0\n",
    "x_test = x_test / 255.0\n",
    "\n",
    "# y_test_tmp = np.squeeze(y_test)\n",
    "y_train = to_categorical(y_train)\n",
    "y_test = to_categorical(y_test)"
   ]
  },
  {
   "cell_type": "code",
   "execution_count": 3,
   "metadata": {},
   "outputs": [],
   "source": [
    "model1 = load_model('../Saved_models/good_models/cifar10/cifar10_vgg_like_175.h5')\n",
    "model2 = load_model('../Saved_models/good_models/cifar10/cifar10_ResNet56v2_model.136.h5')\n",
    "model3 = load_model('../Saved_models/good_models/cifar10/cifar10_densenet121_083.h5')"
   ]
  },
  {
   "cell_type": "code",
   "execution_count": 4,
   "metadata": {},
   "outputs": [
    {
     "name": "stdout",
     "output_type": "stream",
     "text": [
      "10000/10000 [==============================] - 4s 420us/step\n",
      "[0.4428189704418182, 0.8906]\n",
      "10000/10000 [==============================] - 11s 1ms/step\n",
      "[0.39918358292579653, 0.925]\n",
      "10000/10000 [==============================] - 11s 1ms/step\n",
      "[0.540665489012003, 0.8807]\n"
     ]
    }
   ],
   "source": [
    "print(model1.evaluate(x_test, y_test))\n",
    "print(model2.evaluate(x_test, y_test))\n",
    "print(model3.evaluate(x_test, y_test))"
   ]
  },
  {
   "cell_type": "code",
   "execution_count": 5,
   "metadata": {},
   "outputs": [
    {
     "data": {
      "text/plain": [
       "<matplotlib.image.AxesImage at 0x7f65512b5eb8>"
      ]
     },
     "execution_count": 5,
     "metadata": {},
     "output_type": "execute_result"
    },
    {
     "data": {
      "image/png": "[encoded data removed]",
      "text/plain": [
       "<Figure size 432x288 with 1 Axes>"
      ]
     },
     "metadata": {
      "needs_background": "light"
     },
     "output_type": "display_data"
    }
   ],
   "source": [
    "i = 421\n",
    "img = x_test[[i]]\n",
    "img_label = y_test[[i]]\n",
    "plt.imshow(img[0])"
   ]
  },
  {
   "cell_type": "code",
   "execution_count": 21,
   "metadata": {},
   "outputs": [
    {
     "name": "stdout",
     "output_type": "stream",
     "text": [
      "[[('dog', 0.99855655), ('cat', 0.0011238615), ('horse', 0.00014931468)]]\n",
      "[[('dog', 0.99980766), ('deer', 0.00017862326), ('horse', 1.1230042e-05)]]\n",
      "[[('dog', 0.9992778), ('deer', 0.00066359545), ('cat', 5.843094e-05)]]\n"
     ]
    }
   ],
   "source": [
    "print(utils.decode_cifar10_preds(model1.predict(img)))\n",
    "print(utils.decode_cifar10_preds(model2.predict(img)))\n",
    "print(utils.decode_cifar10_preds(model3.predict(img)))"
   ]
  },
  {
   "cell_type": "code",
   "execution_count": 7,
   "metadata": {},
   "outputs": [],
   "source": [
    "K.set_learning_phase(0)\n",
    "ch_model = KerasModelWrapper(model1)\n",
    "lbfgs = LBFGS(ch_model, sess=K.get_session())"
   ]
  },
  {
   "cell_type": "code",
   "execution_count": 8,
   "metadata": {},
   "outputs": [],
   "source": [
    "def batches(l, n):\n",
    "    \"\"\"Yield successive n-sized chunks from l.\"\"\"\n",
    "    for i in range(0, len(l), n):\n",
    "        yield l[i:i + n]"
   ]
  },
  {
   "cell_type": "code",
   "execution_count": 9,
   "metadata": {},
   "outputs": [
    {
     "name": "stdout",
     "output_type": "stream",
     "text": [
      "WARNING:tensorflow:From /home/calvin/python3/lib/python3.5/site-packages/cleverhans/utils_tf.py:37: softmax_cross_entropy_with_logits (from tensorflow.python.ops.nn_ops) is deprecated and will be removed in a future version.\n",
      "Instructions for updating:\n",
      "\n",
      "Future major versions of TensorFlow will allow gradients to flow\n",
      "into the labels input on backprop by default.\n",
      "\n",
      "See `tf.nn.softmax_cross_entropy_with_logits_v2`.\n",
      "\n"
     ]
    },
    {
     "name": "stderr",
     "output_type": "stream",
     "text": [
      "/home/calvin/python3/lib/python3.5/site-packages/numpy/core/fromnumeric.py:2957: RuntimeWarning:\n",
      "\n",
      "Mean of empty slice.\n",
      "\n",
      "/home/calvin/python3/lib/python3.5/site-packages/numpy/core/_methods.py:80: RuntimeWarning:\n",
      "\n",
      "invalid value encountered in double_scalars\n",
      "\n"
     ]
    }
   ],
   "source": [
    "target = np.zeros((1, 10), dtype=int)\n",
    "target[0, 0] = 1\n",
    "adv = lbfgs.generate_np(img, y_target=target)"
   ]
  },
  {
   "cell_type": "code",
   "execution_count": 10,
   "metadata": {},
   "outputs": [
    {
     "data": {
      "text/plain": [
       "<matplotlib.image.AxesImage at 0x7f64307c3550>"
      ]
     },
     "execution_count": 10,
     "metadata": {},
     "output_type": "execute_result"
    },
    {
     "data": {
      "image/png": "[encoded data removed]",
      "text/plain": [
       "<Figure size 432x288 with 1 Axes>"
      ]
     },
     "metadata": {
      "needs_background": "light"
     },
     "output_type": "display_data"
    }
   ],
   "source": [
    "utils.plot_pair(img[0], adv[0], model1)"
   ]
  },
  {
   "cell_type": "code",
   "execution_count": 22,
   "metadata": {},
   "outputs": [
    {
     "name": "stdout",
     "output_type": "stream",
     "text": [
      "[[('airplane', 0.49497712), ('dog', 0.18602064), ('horse', 0.088616714)]]\n",
      "[[('dog', 0.9576676), ('deer', 0.04203258), ('horse', 0.00027639134)]]\n",
      "[[('dog', 0.9983039), ('deer', 0.0015837076), ('cat', 0.000112075235)]]\n"
     ]
    }
   ],
   "source": [
    "print(utils.decode_cifar10_preds(model1.predict(adv)))\n",
    "print(utils.decode_cifar10_preds(model2.predict(adv)))\n",
    "print(utils.decode_cifar10_preds(model3.predict(adv)))"
   ]
  },
  {
   "cell_type": "code",
   "execution_count": 12,
   "metadata": {},
   "outputs": [
    {
     "data": {
      "image/png": "[encoded data removed]",
      "text/plain": [
       "<Figure size 720x648 with 3 Axes>"
      ]
     },
     "metadata": {
      "needs_background": "light"
     },
     "output_type": "display_data"
    }
   ],
   "source": [
    "utils.plot_pair(img[0], adv[0], model1)"
   ]
  },
  {
   "cell_type": "code",
   "execution_count": null,
   "metadata": {},
   "outputs": [],
   "source": [
    "deepfool = DeepFool()"
   ]
  },
  {
   "cell_type": "code",
   "execution_count": null,
   "metadata": {},
   "outputs": [],
   "source": []
  }
 ],
 "metadata": {
  "kernelspec": {
   "display_name": "Python 3",
   "language": "python",
   "name": "python3"
  },
  "language_info": {
   "codemirror_mode": {
    "name": "ipython",
    "version": 3
   },
   "file_extension": ".py",
   "mimetype": "text/x-python",
   "name": "python",
   "nbconvert_exporter": "python",
   "pygments_lexer": "ipython3",
   "version": "3.5.2"
  }
 },
 "nbformat": 4,
 "nbformat_minor": 2
}
