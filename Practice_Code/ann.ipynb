{
 "cells": [
  {
   "cell_type": "code",
   "execution_count": 1,
   "metadata": {},
   "outputs": [
    {
     "name": "stderr",
     "output_type": "stream",
     "text": [
      "Using TensorFlow backend.\n"
     ]
    }
   ],
   "source": [
    "import numpy as np\n",
    "import matplotlib.pyplot as plt\n",
    "import seaborn as sns\n",
    "from time import time\n",
    "from IPython.display import SVG\n",
    "\n",
    "from keras.datasets import mnist, cifar10\n",
    "from keras.models import Sequential\n",
    "from keras.layers import Dense, Dropout, Flatten\n",
    "from keras.callbacks import TensorBoard\n",
    "from keras.utils import to_categorical, plot_model\n",
    "from keras.utils.vis_utils import model_to_dot\n",
    "\n"
   ]
  },
  {
   "cell_type": "code",
   "execution_count": 2,
   "metadata": {},
   "outputs": [],
   "source": [
    "(x_train, y_train), (x_test, y_test) = mnist.load_data()"
   ]
  },
  {
   "cell_type": "code",
   "execution_count": 3,
   "metadata": {},
   "outputs": [
    {
     "data": {
      "text/plain": [
       "<matplotlib.image.AxesImage at 0x7f388bb0e6a0>"
      ]
     },
     "execution_count": 3,
     "metadata": {},
     "output_type": "execute_result"
    },
    {
     "data": {
      "image/png": "[encoded data removed]",
      "text/plain": [
       "<Figure size 432x288 with 1 Axes>"
      ]
     },
     "metadata": {
      "needs_background": "light"
     },
     "output_type": "display_data"
    }
   ],
   "source": [
    "plt.imshow(x_train[0], cmap='gray')"
   ]
  },
  {
   "cell_type": "code",
   "execution_count": 4,
   "metadata": {},
   "outputs": [
    {
     "data": {
      "text/plain": [
       "<matplotlib.axes._subplots.AxesSubplot at 0x7f388bb56198>"
      ]
     },
     "execution_count": 4,
     "metadata": {},
     "output_type": "execute_result"
    },
    {
     "data": {
      "image/png": "[encoded data removed]",
      "text/plain": [
       "<Figure size 432x288 with 1 Axes>"
      ]
     },
     "metadata": {
      "needs_background": "light"
     },
     "output_type": "display_data"
    }
   ],
   "source": [
    "sns.countplot(y_train)"
   ]
  },
  {
   "cell_type": "code",
   "execution_count": 5,
   "metadata": {},
   "outputs": [],
   "source": [
    "x_train = x_train / 255\n",
    "x_test = x_test / 255\n",
    "\n",
    "y_train = to_categorical(y_train)\n",
    "y_test = to_categorical(y_test)"
   ]
  },
  {
   "cell_type": "code",
   "execution_count": 8,
   "metadata": {},
   "outputs": [],
   "source": [
    "tb = TensorBoard(log_dir='tensorboard_logs/ann_tb_log/sgd_' + str(round(time())), write_images=True, write_grads=True, histogram_freq=1)"
   ]
  },
  {
   "cell_type": "code",
   "execution_count": 9,
   "metadata": {},
   "outputs": [],
   "source": [
    "num_classes = 10\n",
    "epochs = 10\n",
    "dropout_rate = 0.3\n",
    "\n",
    "ann = Sequential()\n",
    "ann.add(Flatten())\n",
    "ann.add(Dense(256, activation='relu', name='hidden1'))\n",
    "ann.add(Dropout(dropout_rate, name='dropout1'))\n",
    "ann.add(Dense(128, activation='relu', name='hidden2'))\n",
    "ann.add(Dropout(dropout_rate, name='dropout2'))\n",
    "ann.add(Dense(num_classes, activation='softmax'))\n",
    "\n",
    "ann.compile(optimizer='sgd',\n",
    "            loss='categorical_crossentropy',\n",
    "            metrics=['accuracy'])"
   ]
  },
  {
   "cell_type": "code",
   "execution_count": 21,
   "metadata": {},
   "outputs": [
    {
     "data": {
      "image/svg+xml": [
       "<svg height=\"78pt\" viewBox=\"0.00 0.00 1345.00 78.00\" width=\"1345pt\" xmlns=\"http://www.w3.org/2000/svg\" xmlns:xlink=\"http://www.w3.org/1999/xlink\">\n",
       "<g class=\"graph\" id=\"graph0\" transform=\"scale(1 1) rotate(0) translate(4 74)\">\n",
       "<title>G</title>\n",
       "<polygon fill=\"white\" points=\"-4,4 -4,-74 1341,-74 1341,4 -4,4\" stroke=\"none\"/>\n",
       "<!-- 140185321869264 -->\n",
       "<g class=\"node\" id=\"node1\"><title>140185321869264</title>\n",
       "<polygon fill=\"none\" points=\"154,-0.5 154,-69.5 334,-69.5 334,-0.5 154,-0.5\" stroke=\"black\"/>\n",
       "<text font-family=\"Times,serif\" font-size=\"14.00\" text-anchor=\"middle\" x=\"244\" y=\"-54.3\">flatten_5: Flatten</text>\n",
       "<polyline fill=\"none\" points=\"154,-46.5 334,-46.5 \" stroke=\"black\"/>\n",
       "<text font-family=\"Times,serif\" font-size=\"14.00\" text-anchor=\"middle\" x=\"197\" y=\"-31.3\">input:</text>\n",
       "<polyline fill=\"none\" points=\"240,-23.5 240,-46.5 \" stroke=\"black\"/>\n",
       "<text font-family=\"Times,serif\" font-size=\"14.00\" text-anchor=\"middle\" x=\"287\" y=\"-31.3\">output:</text>\n",
       "<polyline fill=\"none\" points=\"154,-23.5 334,-23.5 \" stroke=\"black\"/>\n",
       "<text font-family=\"Times,serif\" font-size=\"14.00\" text-anchor=\"middle\" x=\"202.5\" y=\"-8.3\">(None, 28, 28)</text>\n",
       "<polyline fill=\"none\" points=\"251,-0.5 251,-23.5 \" stroke=\"black\"/>\n",
       "<text font-family=\"Times,serif\" font-size=\"14.00\" text-anchor=\"middle\" x=\"292.5\" y=\"-8.3\">(None, 784)</text>\n",
       "</g>\n",
       "<!-- 140185322057856 -->\n",
       "<g class=\"node\" id=\"node2\"><title>140185322057856</title>\n",
       "<polygon fill=\"none\" points=\"370,-0.5 370,-69.5 536,-69.5 536,-0.5 370,-0.5\" stroke=\"black\"/>\n",
       "<text font-family=\"Times,serif\" font-size=\"14.00\" text-anchor=\"middle\" x=\"453\" y=\"-54.3\">hidden1: Dense</text>\n",
       "<polyline fill=\"none\" points=\"370,-46.5 536,-46.5 \" stroke=\"black\"/>\n",
       "<text font-family=\"Times,serif\" font-size=\"14.00\" text-anchor=\"middle\" x=\"409.5\" y=\"-31.3\">input:</text>\n",
       "<polyline fill=\"none\" points=\"449,-23.5 449,-46.5 \" stroke=\"black\"/>\n",
       "<text font-family=\"Times,serif\" font-size=\"14.00\" text-anchor=\"middle\" x=\"492.5\" y=\"-31.3\">output:</text>\n",
       "<polyline fill=\"none\" points=\"370,-23.5 536,-23.5 \" stroke=\"black\"/>\n",
       "<text font-family=\"Times,serif\" font-size=\"14.00\" text-anchor=\"middle\" x=\"411.5\" y=\"-8.3\">(None, 784)</text>\n",
       "<polyline fill=\"none\" points=\"453,-0.5 453,-23.5 \" stroke=\"black\"/>\n",
       "<text font-family=\"Times,serif\" font-size=\"14.00\" text-anchor=\"middle\" x=\"494.5\" y=\"-8.3\">(None, 256)</text>\n",
       "</g>\n",
       "<!-- 140185321869264&#45;&gt;140185322057856 -->\n",
       "<g class=\"edge\" id=\"edge2\"><title>140185321869264-&gt;140185322057856</title>\n",
       "<path d=\"M334.289,-35C342.69,-35 351.219,-35 359.648,-35\" fill=\"none\" stroke=\"black\"/>\n",
       "<polygon fill=\"black\" points=\"359.865,-38.5001 369.865,-35 359.865,-31.5001 359.865,-38.5001\" stroke=\"black\"/>\n",
       "</g>\n",
       "<!-- 140185322057968 -->\n",
       "<g class=\"node\" id=\"node3\"><title>140185322057968</title>\n",
       "<polygon fill=\"none\" points=\"572,-0.5 572,-69.5 738,-69.5 738,-0.5 572,-0.5\" stroke=\"black\"/>\n",
       "<text font-family=\"Times,serif\" font-size=\"14.00\" text-anchor=\"middle\" x=\"655\" y=\"-54.3\">dropout1: Dropout</text>\n",
       "<polyline fill=\"none\" points=\"572,-46.5 738,-46.5 \" stroke=\"black\"/>\n",
       "<text font-family=\"Times,serif\" font-size=\"14.00\" text-anchor=\"middle\" x=\"611.5\" y=\"-31.3\">input:</text>\n",
       "<polyline fill=\"none\" points=\"651,-23.5 651,-46.5 \" stroke=\"black\"/>\n",
       "<text font-family=\"Times,serif\" font-size=\"14.00\" text-anchor=\"middle\" x=\"694.5\" y=\"-31.3\">output:</text>\n",
       "<polyline fill=\"none\" points=\"572,-23.5 738,-23.5 \" stroke=\"black\"/>\n",
       "<text font-family=\"Times,serif\" font-size=\"14.00\" text-anchor=\"middle\" x=\"613.5\" y=\"-8.3\">(None, 256)</text>\n",
       "<polyline fill=\"none\" points=\"655,-0.5 655,-23.5 \" stroke=\"black\"/>\n",
       "<text font-family=\"Times,serif\" font-size=\"14.00\" text-anchor=\"middle\" x=\"696.5\" y=\"-8.3\">(None, 256)</text>\n",
       "</g>\n",
       "<!-- 140185322057856&#45;&gt;140185322057968 -->\n",
       "<g class=\"edge\" id=\"edge3\"><title>140185322057856-&gt;140185322057968</title>\n",
       "<path d=\"M536.213,-35C544.562,-35 553.082,-35 561.53,-35\" fill=\"none\" stroke=\"black\"/>\n",
       "<polygon fill=\"black\" points=\"561.783,-38.5001 571.783,-35 561.783,-31.5001 561.783,-38.5001\" stroke=\"black\"/>\n",
       "</g>\n",
       "<!-- 140185322058248 -->\n",
       "<g class=\"node\" id=\"node4\"><title>140185322058248</title>\n",
       "<polygon fill=\"none\" points=\"774,-0.5 774,-69.5 940,-69.5 940,-0.5 774,-0.5\" stroke=\"black\"/>\n",
       "<text font-family=\"Times,serif\" font-size=\"14.00\" text-anchor=\"middle\" x=\"857\" y=\"-54.3\">hidden2: Dense</text>\n",
       "<polyline fill=\"none\" points=\"774,-46.5 940,-46.5 \" stroke=\"black\"/>\n",
       "<text font-family=\"Times,serif\" font-size=\"14.00\" text-anchor=\"middle\" x=\"813.5\" y=\"-31.3\">input:</text>\n",
       "<polyline fill=\"none\" points=\"853,-23.5 853,-46.5 \" stroke=\"black\"/>\n",
       "<text font-family=\"Times,serif\" font-size=\"14.00\" text-anchor=\"middle\" x=\"896.5\" y=\"-31.3\">output:</text>\n",
       "<polyline fill=\"none\" points=\"774,-23.5 940,-23.5 \" stroke=\"black\"/>\n",
       "<text font-family=\"Times,serif\" font-size=\"14.00\" text-anchor=\"middle\" x=\"815.5\" y=\"-8.3\">(None, 256)</text>\n",
       "<polyline fill=\"none\" points=\"857,-0.5 857,-23.5 \" stroke=\"black\"/>\n",
       "<text font-family=\"Times,serif\" font-size=\"14.00\" text-anchor=\"middle\" x=\"898.5\" y=\"-8.3\">(None, 128)</text>\n",
       "</g>\n",
       "<!-- 140185322057968&#45;&gt;140185322058248 -->\n",
       "<g class=\"edge\" id=\"edge4\"><title>140185322057968-&gt;140185322058248</title>\n",
       "<path d=\"M738.213,-35C746.562,-35 755.082,-35 763.53,-35\" fill=\"none\" stroke=\"black\"/>\n",
       "<polygon fill=\"black\" points=\"763.783,-38.5001 773.783,-35 763.783,-31.5001 763.783,-38.5001\" stroke=\"black\"/>\n",
       "</g>\n",
       "<!-- 140185322058304 -->\n",
       "<g class=\"node\" id=\"node5\"><title>140185322058304</title>\n",
       "<polygon fill=\"none\" points=\"976,-0.5 976,-69.5 1142,-69.5 1142,-0.5 976,-0.5\" stroke=\"black\"/>\n",
       "<text font-family=\"Times,serif\" font-size=\"14.00\" text-anchor=\"middle\" x=\"1059\" y=\"-54.3\">dropout2: Dropout</text>\n",
       "<polyline fill=\"none\" points=\"976,-46.5 1142,-46.5 \" stroke=\"black\"/>\n",
       "<text font-family=\"Times,serif\" font-size=\"14.00\" text-anchor=\"middle\" x=\"1015.5\" y=\"-31.3\">input:</text>\n",
       "<polyline fill=\"none\" points=\"1055,-23.5 1055,-46.5 \" stroke=\"black\"/>\n",
       "<text font-family=\"Times,serif\" font-size=\"14.00\" text-anchor=\"middle\" x=\"1098.5\" y=\"-31.3\">output:</text>\n",
       "<polyline fill=\"none\" points=\"976,-23.5 1142,-23.5 \" stroke=\"black\"/>\n",
       "<text font-family=\"Times,serif\" font-size=\"14.00\" text-anchor=\"middle\" x=\"1017.5\" y=\"-8.3\">(None, 128)</text>\n",
       "<polyline fill=\"none\" points=\"1059,-0.5 1059,-23.5 \" stroke=\"black\"/>\n",
       "<text font-family=\"Times,serif\" font-size=\"14.00\" text-anchor=\"middle\" x=\"1100.5\" y=\"-8.3\">(None, 128)</text>\n",
       "</g>\n",
       "<!-- 140185322058248&#45;&gt;140185322058304 -->\n",
       "<g class=\"edge\" id=\"edge5\"><title>140185322058248-&gt;140185322058304</title>\n",
       "<path d=\"M940.213,-35C948.562,-35 957.082,-35 965.53,-35\" fill=\"none\" stroke=\"black\"/>\n",
       "<polygon fill=\"black\" points=\"965.783,-38.5001 975.783,-35 965.783,-31.5001 965.783,-38.5001\" stroke=\"black\"/>\n",
       "</g>\n",
       "<!-- 140185322058640 -->\n",
       "<g class=\"node\" id=\"node6\"><title>140185322058640</title>\n",
       "<polygon fill=\"none\" points=\"1178,-0.5 1178,-69.5 1337,-69.5 1337,-0.5 1178,-0.5\" stroke=\"black\"/>\n",
       "<text font-family=\"Times,serif\" font-size=\"14.00\" text-anchor=\"middle\" x=\"1257.5\" y=\"-54.3\">dense_5: Dense</text>\n",
       "<polyline fill=\"none\" points=\"1178,-46.5 1337,-46.5 \" stroke=\"black\"/>\n",
       "<text font-family=\"Times,serif\" font-size=\"14.00\" text-anchor=\"middle\" x=\"1216\" y=\"-31.3\">input:</text>\n",
       "<polyline fill=\"none\" points=\"1254,-23.5 1254,-46.5 \" stroke=\"black\"/>\n",
       "<text font-family=\"Times,serif\" font-size=\"14.00\" text-anchor=\"middle\" x=\"1295.5\" y=\"-31.3\">output:</text>\n",
       "<polyline fill=\"none\" points=\"1178,-23.5 1337,-23.5 \" stroke=\"black\"/>\n",
       "<text font-family=\"Times,serif\" font-size=\"14.00\" text-anchor=\"middle\" x=\"1219.5\" y=\"-8.3\">(None, 128)</text>\n",
       "<polyline fill=\"none\" points=\"1261,-0.5 1261,-23.5 \" stroke=\"black\"/>\n",
       "<text font-family=\"Times,serif\" font-size=\"14.00\" text-anchor=\"middle\" x=\"1299\" y=\"-8.3\">(None, 10)</text>\n",
       "</g>\n",
       "<!-- 140185322058304&#45;&gt;140185322058640 -->\n",
       "<g class=\"edge\" id=\"edge6\"><title>140185322058304-&gt;140185322058640</title>\n",
       "<path d=\"M1142.2,-35C1150.57,-35 1159.1,-35 1167.54,-35\" fill=\"none\" stroke=\"black\"/>\n",
       "<polygon fill=\"black\" points=\"1167.78,-38.5001 1177.78,-35 1167.78,-31.5001 1167.78,-38.5001\" stroke=\"black\"/>\n",
       "</g>\n",
       "<!-- 140185321865400 -->\n",
       "<g class=\"node\" id=\"node7\"><title>140185321865400</title>\n",
       "<polygon fill=\"none\" points=\"0,-17 0,-53 118,-53 118,-17 0,-17\" stroke=\"black\"/>\n",
       "<text font-family=\"Times,serif\" font-size=\"14.00\" text-anchor=\"middle\" x=\"59\" y=\"-31.3\">140185321865400</text>\n",
       "</g>\n",
       "<!-- 140185321865400&#45;&gt;140185321869264 -->\n",
       "<g class=\"edge\" id=\"edge1\"><title>140185321865400-&gt;140185321869264</title>\n",
       "<path d=\"M118.154,-35C126.353,-35 134.966,-35 143.675,-35\" fill=\"none\" stroke=\"black\"/>\n",
       "<polygon fill=\"black\" points=\"143.922,-38.5001 153.922,-35 143.922,-31.5001 143.922,-38.5001\" stroke=\"black\"/>\n",
       "</g>\n",
       "</g>\n",
       "</svg>"
      ],
      "text/plain": [
       "<IPython.core.display.SVG object>"
      ]
     },
     "execution_count": 21,
     "metadata": {},
     "output_type": "execute_result"
    }
   ],
   "source": [
    "SVG(model_to_dot(ann, rankdir='LR', show_shapes=True).create(prog='dot', format='svg'))"
   ]
  },
  {
   "cell_type": "code",
   "execution_count": 10,
   "metadata": {},
   "outputs": [
    {
     "name": "stdout",
     "output_type": "stream",
     "text": [
      "Train on 60000 samples, validate on 10000 samples\n",
      "Epoch 1/10\n",
      "60000/60000 [==============================] - 5s 77us/step - loss: 0.8004 - acc: 0.7573 - val_loss: 0.3250 - val_acc: 0.9077\n",
      "Epoch 2/10\n",
      "60000/60000 [==============================] - 4s 73us/step - loss: 0.3982 - acc: 0.8826 - val_loss: 0.2463 - val_acc: 0.9302\n",
      "Epoch 3/10\n",
      "60000/60000 [==============================] - 4s 73us/step - loss: 0.3160 - acc: 0.9062 - val_loss: 0.2056 - val_acc: 0.9390\n",
      "Epoch 4/10\n",
      "60000/60000 [==============================] - 4s 73us/step - loss: 0.2705 - acc: 0.9200 - val_loss: 0.1771 - val_acc: 0.9472\n",
      "Epoch 5/10\n",
      "60000/60000 [==============================] - 4s 72us/step - loss: 0.2409 - acc: 0.9293 - val_loss: 0.1589 - val_acc: 0.9523\n",
      "Epoch 6/10\n",
      "60000/60000 [==============================] - 4s 72us/step - loss: 0.2160 - acc: 0.9366 - val_loss: 0.1443 - val_acc: 0.9576\n",
      "Epoch 7/10\n",
      "60000/60000 [==============================] - 4s 68us/step - loss: 0.1971 - acc: 0.9427 - val_loss: 0.1334 - val_acc: 0.9602\n",
      "Epoch 8/10\n",
      "60000/60000 [==============================] - 4s 66us/step - loss: 0.1826 - acc: 0.9463 - val_loss: 0.1233 - val_acc: 0.9624\n",
      "Epoch 9/10\n",
      "60000/60000 [==============================] - 4s 59us/step - loss: 0.1694 - acc: 0.9494 - val_loss: 0.1157 - val_acc: 0.9657\n",
      "Epoch 10/10\n",
      "60000/60000 [==============================] - 4s 71us/step - loss: 0.1591 - acc: 0.9534 - val_loss: 0.1104 - val_acc: 0.9657\n"
     ]
    },
    {
     "data": {
      "text/plain": [
       "<keras.callbacks.History at 0x7f388ba8a470>"
      ]
     },
     "execution_count": 10,
     "metadata": {},
     "output_type": "execute_result"
    }
   ],
   "source": [
    "ann.fit(x_train, y_train, validation_data=(x_test, y_test), callbacks=[tb], epochs=epochs)\n",
    "#ann.fit(x_train, y_train, validation_data=(x_test, y_test), epochs=epochs)"
   ]
  },
  {
   "cell_type": "code",
   "execution_count": null,
   "metadata": {},
   "outputs": [],
   "source": [
    "score = ann.evaluate(x_test, y_test)"
   ]
  },
  {
   "cell_type": "code",
   "execution_count": 9,
   "metadata": {},
   "outputs": [],
   "source": [
    "rand = np.array([np.random.rand(28, 28)])"
   ]
  },
  {
   "cell_type": "code",
   "execution_count": 10,
   "metadata": {},
   "outputs": [
    {
     "data": {
      "text/plain": [
       "<matplotlib.image.AxesImage at 0x7ff4782c3978>"
      ]
     },
     "execution_count": 10,
     "metadata": {},
     "output_type": "execute_result"
    },
    {
     "data": {
      "image/png": "[encoded data removed]",
      "text/plain": [
       "<Figure size 432x288 with 1 Axes>"
      ]
     },
     "metadata": {},
     "output_type": "display_data"
    }
   ],
   "source": [
    "plt.imshow(rand[0], cmap='gray')"
   ]
  },
  {
   "cell_type": "code",
   "execution_count": 11,
   "metadata": {},
   "outputs": [
    {
     "data": {
      "text/plain": [
       "3"
      ]
     },
     "execution_count": 11,
     "metadata": {},
     "output_type": "execute_result"
    }
   ],
   "source": [
    "ann.predict(rand).argmax()"
   ]
  },
  {
   "cell_type": "code",
   "execution_count": null,
   "metadata": {},
   "outputs": [],
   "source": []
  }
 ],
 "metadata": {
  "kernelspec": {
   "display_name": "Python 3",
   "language": "python",
   "name": "python3"
  },
  "language_info": {
   "codemirror_mode": {
    "name": "ipython",
    "version": 3
   },
   "file_extension": ".py",
   "mimetype": "text/x-python",
   "name": "python",
   "nbconvert_exporter": "python",
   "pygments_lexer": "ipython3",
   "version": "3.5.2"
  }
 },
 "nbformat": 4,
 "nbformat_minor": 2
}
